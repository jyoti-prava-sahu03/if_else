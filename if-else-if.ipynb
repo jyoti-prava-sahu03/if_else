{
 "cells": [
  {
   "cell_type": "code",
   "execution_count": 3,
   "metadata": {},
   "outputs": [
    {
     "name": "stdout",
     "output_type": "stream",
     "text": [
      "enter a number-98\n",
      "Value is negative\n"
     ]
    }
   ],
   "source": [
    "try:\n",
    "    x=int(input(\"enter a number\"))\n",
    "    if x < 0:\n",
    "        print(\"Value is negative\")\n",
    "    elif x==0:\n",
    "        print(\"Value is zero\")\n",
    "    else:\n",
    "        print(\"Value is positive\")\n",
    "        print(x)\n",
    "except:\n",
    "    print(\"invalid input\")"
   ]
  },
  {
   "cell_type": "code",
   "execution_count": 4,
   "metadata": {},
   "outputs": [
    {
     "name": "stdout",
     "output_type": "stream",
     "text": [
      "enter name : jyoti prava sahu\n",
      "enter mark : 67\n",
      "jyoti prava sahu has passed in the exam\n"
     ]
    }
   ],
   "source": [
    "name=input(\"enter name : \")\n",
    "mark=int(input(\"enter mark : \"))\n",
    "if mark < 45:\n",
    "    print(name, \"has failed in the exam\")\n",
    "        \n",
    "elif mark > 0:\n",
    "    print(name, \"has passed in the exam\")\n",
    "        \n",
    "else:\n",
    "    pass"
   ]
  },
  {
   "cell_type": "code",
   "execution_count": null,
   "metadata": {},
   "outputs": [],
   "source": [
    "x=int(input(\"enter number\"))\n",
    "'''if x < 10:\n",
    "    s = \"Yes less than 10\"\n",
    "else:\n",
    "    s = \"No its not less than 10\"\n",
    "print(s)\n",
    "'''\n",
    "# Could also be written onto one line\n",
    "s = print(\"Yes less than 10\") if x < 10 else print(\"No\")\n",
    "#print(s)"
   ]
  },
  {
   "cell_type": "code",
   "execution_count": 4,
   "metadata": {},
   "outputs": [
    {
     "name": "stdout",
     "output_type": "stream",
     "text": [
      "enter number : 5\n",
      "In range \n"
     ]
    }
   ],
   "source": [
    "x =int(input(\"enter number : \"))\n",
    "\n",
    "#if x > 0 and x < 10:\n",
    "if 0 < x < 10: #is also possible\n",
    "    print(\"In range \")\n",
    "else:\n",
    "    print(\"Not in range\")\n",
    "    \n",
    "#elif x < 0 or x > 10:\n",
    "#print(\"In range B\")"
   ]
  },
  {
   "cell_type": "code",
   "execution_count": 5,
   "metadata": {},
   "outputs": [
    {
     "name": "stdout",
     "output_type": "stream",
     "text": [
      "[123, 54, 92, 87, 33]\n",
      "Are values of y and x the same? False\n",
      "Are objects y and x the same? False\n",
      "Are values of z and x the same? True\n",
      "Are objects z and x the same? True\n",
      "[123, 23, 92, 87, 33]\n",
      "Are values of y and x the same? False\n",
      "Are objects y and x the same? False\n",
      "Are values of z and x the same? True\n",
      "Are objects z and x the same? True\n"
     ]
    }
   ],
   "source": [
    "x = [123, 54, 92, 87, 33]\n",
    "y = x[2:3] # y is a copy of x\n",
    "z = x\n",
    "print(x)\n",
    "print(\"Are values of y and x the same?\", y == x)\n",
    "print(\"Are objects y and x the same?\", y is x)\n",
    "print(\"Are values of z and x the same?\", z == x)\n",
    "print(\"Are objects z and x the same?\", z is x)\n",
    "# Let's change x\n",
    "x[1] = 23\n",
    "print(x)\n",
    "print(\"Are values of y and x the same?\", y == x)\n",
    "print(\"Are objects y and x the same?\", y is x)\n",
    "print(\"Are values of z and x the same?\", z == x)\n",
    "print(\"Are objects z and x the same?\", z is x)"
   ]
  },
  {
   "cell_type": "code",
   "execution_count": null,
   "metadata": {},
   "outputs": [],
   "source": [
    "x = ''      # An empty string\n",
    "y = ['a']   # A list with one item\n",
    "\n",
    "if x:\n",
    "    print(\"x is true\")\n",
    "else: \n",
    "    print(\"x is false\")     \n",
    "\n",
    "if y:\n",
    "    print(\"y is true\")\n",
    "else:\n",
    "    print(\"y is false\")"
   ]
  }
 ],
 "metadata": {
  "kernelspec": {
   "display_name": "Python 3 (ipykernel)",
   "language": "python",
   "name": "python3"
  },
  "language_info": {
   "codemirror_mode": {
    "name": "ipython",
    "version": 3
   },
   "file_extension": ".py",
   "mimetype": "text/x-python",
   "name": "python",
   "nbconvert_exporter": "python",
   "pygments_lexer": "ipython3",
   "version": "3.9.12"
  }
 },
 "nbformat": 4,
 "nbformat_minor": 1
}
